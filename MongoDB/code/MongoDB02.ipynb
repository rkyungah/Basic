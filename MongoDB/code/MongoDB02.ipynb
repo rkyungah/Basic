{
 "cells": [
  {
   "cell_type": "code",
   "execution_count": 1,
   "metadata": {},
   "outputs": [],
   "source": [
    "import pymongo"
   ]
  },
  {
   "cell_type": "code",
   "execution_count": 2,
   "metadata": {},
   "outputs": [],
   "source": [
    "conn = pymongo.MongoClient('localhost', 27017)"
   ]
  },
  {
   "cell_type": "code",
   "execution_count": 3,
   "metadata": {},
   "outputs": [
    {
     "name": "stdout",
     "output_type": "stream",
     "text": [
      "['admin', 'config', 'game', 'local']\n"
     ]
    },
    {
     "name": "stderr",
     "output_type": "stream",
     "text": [
      "C:\\Python\\Anaconda3\\lib\\site-packages\\ipykernel_launcher.py:1: DeprecationWarning: database_names is deprecated. Use list_database_names instead.\n",
      "  \"\"\"Entry point for launching an IPython kernel.\n"
     ]
    }
   ],
   "source": [
    "print(conn.database_names())"
   ]
  },
  {
   "cell_type": "code",
   "execution_count": 4,
   "metadata": {},
   "outputs": [
    {
     "name": "stderr",
     "output_type": "stream",
     "text": [
      "C:\\Python\\Anaconda3\\lib\\site-packages\\ipykernel_launcher.py:4: DeprecationWarning: insert is deprecated. Use insert_one or insert_many instead.\n",
      "  after removing the cwd from sys.path.\n"
     ]
    },
    {
     "data": {
      "text/plain": [
       "ObjectId('5dc2309c448c600c68d4b37a')"
      ]
     },
     "execution_count": 4,
     "metadata": {},
     "output_type": "execute_result"
    }
   ],
   "source": [
    "db = conn.local\n",
    "db_col = db.items\n",
    "data = {'key1':500}\n",
    "db_col.insert(data)"
   ]
  },
  {
   "cell_type": "code",
   "execution_count": 5,
   "metadata": {},
   "outputs": [
    {
     "data": {
      "text/plain": [
       "[{'_id': ObjectId('5dc22e26779ab8bb1b33b530'),\n",
       "  'username': 'hero7',\n",
       "  'power': 3004,\n",
       "  'height': 178,\n",
       "  'money': 200000},\n",
       " {'_id': ObjectId('5dc2309c448c600c68d4b37a'), 'key1': 500}]"
      ]
     },
     "execution_count": 5,
     "metadata": {},
     "output_type": "execute_result"
    }
   ],
   "source": [
    "list(db_col.find())"
   ]
  },
  {
   "cell_type": "code",
   "execution_count": 10,
   "metadata": {},
   "outputs": [
    {
     "name": "stderr",
     "output_type": "stream",
     "text": [
      "C:\\Python\\Anaconda3\\lib\\site-packages\\ipykernel_launcher.py:5: DeprecationWarning: remove is deprecated. Use delete_one or delete_many instead.\n",
      "  \"\"\"\n"
     ]
    },
    {
     "name": "stdout",
     "output_type": "stream",
     "text": [
      "몇 명의 유저를 만들 건가요? 5\n",
      "영웅의 이름은 무엇인가요? hero1\n",
      "영웅의 힘은 얼마인가요? 100\n",
      "영웅의 키는 얼마인가요? 188\n",
      "영웅이 가진 돈은 얼마인가요? 12000400\n"
     ]
    },
    {
     "name": "stderr",
     "output_type": "stream",
     "text": [
      "C:\\Python\\Anaconda3\\lib\\site-packages\\ipykernel_launcher.py:22: DeprecationWarning: insert is deprecated. Use insert_one or insert_many instead.\n"
     ]
    },
    {
     "name": "stdout",
     "output_type": "stream",
     "text": [
      "영웅의 이름은 무엇인가요? hero2\n",
      "영웅의 힘은 얼마인가요? 123000\n",
      "영웅의 키는 얼마인가요? 189\n",
      "영웅이 가진 돈은 얼마인가요? 1000000200\n",
      "quit? [y / n] n\n",
      "영웅의 이름은 무엇인가요? hero3\n",
      "영웅의 힘은 얼마인가요? 12004000\n",
      "영웅의 키는 얼마인가요? 166\n",
      "영웅이 가진 돈은 얼마인가요? 120003000040\n",
      "영웅의 이름은 무엇인가요? hero4\n",
      "영웅의 힘은 얼마인가요? 12004030\n",
      "영웅의 키는 얼마인가요? 169\n",
      "영웅이 가진 돈은 얼마인가요? 1200030000\n",
      "영웅의 이름은 무엇인가요? hero5\n",
      "영웅의 힘은 얼마인가요? 1800400\n",
      "영웅의 키는 얼마인가요? 175\n",
      "영웅이 가진 돈은 얼마인가요? 100\n",
      "<pymongo.cursor.Cursor object at 0x000001F097D756D8>\n"
     ]
    }
   ],
   "source": [
    "### for문을 이용해서 데이터 입력받고, 이를 삽입해준다.\n",
    "db = conn.local\n",
    "db_col = db.items\n",
    "\n",
    "db_col.remove()     # 처음 상태로\n",
    "list(db_col.find())\n",
    "\n",
    "count = int(input('몇 명의 유저를 만들 건가요? '))\n",
    "for i in range(count) :\n",
    "    username = input('영웅의 이름은 무엇인가요? ')\n",
    "    power = int(input('영웅의 힘은 얼마인가요? '))\n",
    "    height = int(input('영웅의 키는 얼마인가요? '))\n",
    "    money = int(input('영웅이 가진 돈은 얼마인가요? '))\n",
    "    \n",
    "    data = {\n",
    "        'username' : username,\n",
    "        'power' : power,\n",
    "        'height' : height,\n",
    "        'money' : money\n",
    "    }\n",
    "    \n",
    "    db_col.insert(data)\n",
    "    \n",
    "    if i!= 0 and 5 % i == 0 :\n",
    "        quit = input('quit? [y / n] ')\n",
    "        if quit == 'y' :\n",
    "            break\n",
    "        else :\n",
    "            continue\n",
    "print(db_col.find())"
   ]
  },
  {
   "cell_type": "markdown",
   "metadata": {},
   "source": [
    "### 영웅검색기능 추가"
   ]
  },
  {
   "cell_type": "code",
   "execution_count": 15,
   "metadata": {},
   "outputs": [
    {
     "name": "stdout",
     "output_type": "stream",
     "text": [
      "당신이 원하는 영웅은 어떤 이름을 갖고 있나요? hero1\n",
      "당신이 선택한 영웅의 정보는 다음과 같습니다.\n",
      "영웅의 이름 : hero1,영웅의 힘 : 100,영웅의 키 : 188,영웅이 소유한 자본 : 12000400 \n"
     ]
    }
   ],
   "source": [
    "wanted = input('당신이 원하는 영웅은 어떤 이름을 갖고 있나요? ')\n",
    "dat = db_col.find({'username' : wanted})\n",
    "\n",
    "for one in dat :\n",
    "    print('당신이 선택한 영웅의 정보는 다음과 같습니다.')\n",
    "    info1 = one['username']\n",
    "    info2 = one['power']\n",
    "    info3 = one['height']\n",
    "    info4 = one['money']\n",
    "    print('영웅의 이름 : {},영웅의 힘 : {},영웅의 키 : {},영웅이 소유한 자본 : {} '.format(info1,info2,info3,info4))"
   ]
  },
  {
   "cell_type": "code",
   "execution_count": 13,
   "metadata": {},
   "outputs": [
    {
     "data": {
      "text/plain": [
       "[{'_id': ObjectId('5dc231ae448c600c68d4b37c'),\n",
       "  'username': 'hero1',\n",
       "  'power': 100,\n",
       "  'height': 188,\n",
       "  'money': 12000400},\n",
       " {'_id': ObjectId('5dc231b9448c600c68d4b37d'),\n",
       "  'username': 'hero2',\n",
       "  'power': 123000,\n",
       "  'height': 189,\n",
       "  'money': 1000000200},\n",
       " {'_id': ObjectId('5dc231ca448c600c68d4b37e'),\n",
       "  'username': 'hero3',\n",
       "  'power': 12004000,\n",
       "  'height': 166,\n",
       "  'money': 120003000040},\n",
       " {'_id': ObjectId('5dc231d7448c600c68d4b37f'),\n",
       "  'username': 'hero4',\n",
       "  'power': 12004030,\n",
       "  'height': 169,\n",
       "  'money': 1200030000},\n",
       " {'_id': ObjectId('5dc231e5448c600c68d4b380'),\n",
       "  'username': 'hero5',\n",
       "  'power': 1800400,\n",
       "  'height': 175,\n",
       "  'money': 100}]"
      ]
     },
     "execution_count": 13,
     "metadata": {},
     "output_type": "execute_result"
    }
   ],
   "source": [
    "list(db_col.find())"
   ]
  },
  {
   "cell_type": "code",
   "execution_count": null,
   "metadata": {},
   "outputs": [],
   "source": []
  }
 ],
 "metadata": {
  "kernelspec": {
   "display_name": "Python 3",
   "language": "python",
   "name": "python3"
  },
  "language_info": {
   "codemirror_mode": {
    "name": "ipython",
    "version": 3
   },
   "file_extension": ".py",
   "mimetype": "text/x-python",
   "name": "python",
   "nbconvert_exporter": "python",
   "pygments_lexer": "ipython3",
   "version": "3.7.4"
  }
 },
 "nbformat": 4,
 "nbformat_minor": 2
}

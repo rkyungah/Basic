{
 "cells": [
  {
   "cell_type": "code",
   "execution_count": 1,
   "metadata": {},
   "outputs": [],
   "source": [
    "class 빵틀 :\n",
    "    모양 = str()\n",
    "    반죽 = str()\n",
    "    앙꼬 = str()\n",
    "    단가 = int()\n",
    "    \n",
    "    def __init__(self, 모양, 반죽, 앙꼬, 단가) :\n",
    "        self.모양 = 모양\n",
    "        self.반죽 = 반죽\n",
    "        self.앙꼬 = 앙꼬\n",
    "        self.단가 = 단가\n",
    "    def 굽기(self, 주문갯수) :\n",
    "        굽는횟수 = (주문갯수-1)/(10+1)\n",
    "        완성시간 = int(굽는횟수) * 5\n",
    "        return 완성시간\n",
    "    \n",
    "    def 가격(self, 주문갯수):\n",
    "        금액 = 주문갯수 * self.단가\n",
    "        return 금액\n",
    "    \n",
    "    def 주문(self, 주문갯수, 지불금액):\n",
    "        대기시간 = self.굽기(주문갯수)\n",
    "        주문금액 = self.가격(주문갯수)        \n",
    "        거스름돈 = 지불금액 - 주문금액\n",
    "        return 대기시간, 거스름돈"
   ]
  },
  {
   "cell_type": "code",
   "execution_count": 2,
   "metadata": {},
   "outputs": [],
   "source": [
    "다꼬야끼 = 빵틀('다꼬야끼','밀가루','낙지',500)"
   ]
  },
  {
   "cell_type": "code",
   "execution_count": 3,
   "metadata": {},
   "outputs": [
    {
     "name": "stdout",
     "output_type": "stream",
     "text": [
      "<__main__.빵틀 object at 0x0000024921ECE8D0>\n"
     ]
    }
   ],
   "source": [
    "print(다꼬야끼)"
   ]
  },
  {
   "cell_type": "code",
   "execution_count": 4,
   "metadata": {},
   "outputs": [
    {
     "name": "stdout",
     "output_type": "stream",
     "text": [
      "['ㅁㅇㄹ']\n"
     ]
    }
   ],
   "source": [
    "class Dog :\n",
    "    tricks=[]\n",
    "    \n",
    "    def __init__(self,name) :\n",
    "        self.name = name\n",
    "        \n",
    "    def add_trick(self,trick) :\n",
    "        self.tricks.append(trick)\n",
    "\n",
    "dog1 = Dog('z')\n",
    "dog2 = Dog('q')\n",
    "\n",
    "dog1.tricks.append('ㅁㅇㄹ')\n",
    "\n",
    "print(dog1.tricks)"
   ]
  },
  {
   "cell_type": "code",
   "execution_count": 5,
   "metadata": {},
   "outputs": [
    {
     "name": "stdout",
     "output_type": "stream",
     "text": [
      "['ㅁㅇㄹ']\n"
     ]
    }
   ],
   "source": [
    "print(dog2.tricks)"
   ]
  },
  {
   "cell_type": "code",
   "execution_count": 6,
   "metadata": {},
   "outputs": [
    {
     "name": "stdout",
     "output_type": "stream",
     "text": [
      "ㅇㅇ ['adfae']\n",
      "qq ['aeaadd']\n"
     ]
    }
   ],
   "source": [
    "class Cat :\n",
    "    \n",
    "    def __init__(self,name) :\n",
    "        self.name = name\n",
    "        self.tricks = []\n",
    "        \n",
    "    def add_trick(self, trick) :\n",
    "        self.tricks.append(trick)\n",
    "        \n",
    "cat1=Cat('ㅇㅇ')\n",
    "cat2=Cat('qq')\n",
    "\n",
    "cat1.add_trick('adfae')\n",
    "cat2.add_trick('aeaadd')\n",
    "\n",
    "print(cat1.name, cat1.tricks)\n",
    "print(cat2.name, cat2.tricks)"
   ]
  },
  {
   "cell_type": "markdown",
   "metadata": {},
   "source": [
    "# 상속"
   ]
  },
  {
   "cell_type": "code",
   "execution_count": 61,
   "metadata": {},
   "outputs": [],
   "source": [
    "class Game :\n",
    "    fname = '풀네임'\n",
    "    \n",
    "    def __init__(self, name) :\n",
    "        self.name = name\n",
    "        \n",
    "    def Discript(self) :\n",
    "        print('%s의 원제는 %s입니다' % (self.name,self.fname))\n",
    "        \n",
    "class LOL(Game) :\n",
    "    def __init__(self,name) :\n",
    "        self.name = name\n",
    "        self.fname = '리그오브레전드'\n",
    "        \n",
    "    def Kind(self,kind) :\n",
    "        self.kind = kind\n",
    "        print('장르는 %s입니다.' %self.kind)\n",
    "        \n",
    "class OVERWATCH(Game):\n",
    "    def __init__(self,name) :\n",
    "        self.name = name\n",
    "        self.fname = '오버워치'\n",
    "    \n",
    "    def Kind(self,kind) :\n",
    "        self.kind = kind\n",
    "        print('장르는' + self.kind + '입니다.')\n",
    "\n",
    "lol=LOL('lol')\n",
    "ow=OVERWATCH('overwatch')"
   ]
  },
  {
   "cell_type": "code",
   "execution_count": 62,
   "metadata": {},
   "outputs": [
    {
     "name": "stdout",
     "output_type": "stream",
     "text": [
      "lol의 원제는 리그오브레전드입니다\n",
      "overwatch의 원제는 오버워치입니다\n",
      "장르는 AOS입니다.\n",
      "장르는FPS입니다.\n"
     ]
    }
   ],
   "source": [
    "lol.Discript()\n",
    "ow.Discript()\n",
    "lol.Kind('AOS')\n",
    "ow.Kind('FPS')"
   ]
  },
  {
   "cell_type": "code",
   "execution_count": 63,
   "metadata": {},
   "outputs": [
    {
     "name": "stdout",
     "output_type": "stream",
     "text": [
      "lol의 원제는 리그오브레전드입니다\n",
      "장르는 AOS입니다.\n",
      "None None\n",
      "overwatch의 원제는 오버워치입니다\n",
      "장르는FPS입니다.\n",
      "None None\n"
     ]
    }
   ],
   "source": [
    "print(lol.Discript(),lol.Kind('AOS'))\n",
    "print(ow.Discript(), ow.Kind('FPS'))"
   ]
  },
  {
   "cell_type": "code",
   "execution_count": 2,
   "metadata": {},
   "outputs": [],
   "source": [
    "with open('data.txt','r') as fp :\n",
    "    data = fp.read()\n",
    "    print(data)"
   ]
  },
  {
   "cell_type": "code",
   "execution_count": 1,
   "metadata": {},
   "outputs": [],
   "source": [
    "with open('.students.csv','r') as fp :\n",
    "    data = fp.read()\n",
    "    print(data)"
   ]
  },
  {
   "cell_type": "code",
   "execution_count": 6,
   "metadata": {},
   "outputs": [],
   "source": [
    "def read_csv(filepath):\n",
    "    \n",
    "    fp = open(filepath, 'r', encoding='utf-8')\n",
    "    data = fp.read()\n",
    "    fp.close()\n",
    "    \n",
    "    # return dataL\n",
    "    elements = []\n",
    "    \n",
    "    rows = data.split(\"\\n\")\n",
    "    # print(rows)\n",
    "    for row in rows:        \n",
    "        \n",
    "        fields = row.split(\",\")\n",
    "        # print(fields)\n",
    "        \n",
    "        element = {   \n",
    "            \"name\"   : fields[0],\n",
    "            \"school\" : fields[1],\n",
    "            \"email\"  : fields[2],\n",
    "        }\n",
    "        elements.append(element)\n",
    "    return elements"
   ]
  },
  {
   "cell_type": "code",
   "execution_count": 9,
   "metadata": {},
   "outputs": [
    {
     "data": {
      "text/plain": [
       "[{'name': '김태희', 'school': '서울대', 'email': 'thkim@gmail.com'},\n",
       " {'name': '신민아', 'school': '성균관대', 'email': 'sma@gmial.com'},\n",
       " {'name': '전지현', 'school': '중앙대', 'email': 'jhjeon@gmail.com'},\n",
       " {'name': '이영애', 'school': '숭실대', 'email': 'janggumi@gamil.com'}]"
      ]
     },
     "execution_count": 9,
     "metadata": {},
     "output_type": "execute_result"
    }
   ],
   "source": [
    "filepath = './students.csv'\n",
    "read_csv(filepath)"
   ]
  },
  {
   "cell_type": "code",
   "execution_count": 15,
   "metadata": {},
   "outputs": [],
   "source": [
    "def read_csv(filepath) :\n",
    "    \n",
    "    fp = open(filepath,'r',encoding='utf-8')\n",
    "    data = fp.read()\n",
    "    fp.close()\n",
    "    \n",
    "    elements = []\n",
    "    rows = data.split('\\n')\n",
    "    col = rows[0].split(',')\n",
    "    \n",
    "    for row in rows[1:] :\n",
    "        fields = row.split(',')\n",
    "        \n",
    "        element = {\n",
    "            \n",
    "        }\n",
    "        for i in range(len(col)) :\n",
    "            column = col[i]\n",
    "            field = fields[i]\n",
    "            element[column] = field\n",
    "        elements.append(element)\n",
    "    return elements\n",
    "            "
   ]
  },
  {
   "cell_type": "code",
   "execution_count": 17,
   "metadata": {},
   "outputs": [
    {
     "data": {
      "text/plain": [
       "[{'랭킹': '1', ' 회사이름': ' 애플', ' 영문명': ' Apple', ' 창업자 ': ' 스티브잡스 '},\n",
       " {'랭킹': '2', ' 회사이름': ' 구글', ' 영문명': ' Google', ' 창업자 ': ' 세르게이브린 & 레리페이지 '},\n",
       " {'랭킹': '3',\n",
       "  ' 회사이름': ' 마이크로소프트',\n",
       "  ' 영문명': ' Microsoft',\n",
       "  ' 창업자 ': ' 빌게이츠 & 폴앨런 '},\n",
       " {'랭킹': '4', ' 회사이름': ' 페이스북', ' 영문명': ' Facebook', ' 창업자 ': ' 마크쥬크버그 '},\n",
       " {'랭킹': '5', ' 회사이름': ' 에어비엔비', ' 영문명': ' Airbnb', ' 창업자 ': ' 브라이언체크키 & 조게비어'}]"
      ]
     },
     "execution_count": 17,
     "metadata": {},
     "output_type": "execute_result"
    }
   ],
   "source": [
    "filepath = './company.csv'\n",
    "read_csv(filepath)"
   ]
  },
  {
   "cell_type": "code",
   "execution_count": null,
   "metadata": {},
   "outputs": [],
   "source": []
  }
 ],
 "metadata": {
  "kernelspec": {
   "display_name": "Python 3",
   "language": "python",
   "name": "python3"
  },
  "language_info": {
   "codemirror_mode": {
    "name": "ipython",
    "version": 3
   },
   "file_extension": ".py",
   "mimetype": "text/x-python",
   "name": "python",
   "nbconvert_exporter": "python",
   "pygments_lexer": "ipython3",
   "version": "3.7.4"
  }
 },
 "nbformat": 4,
 "nbformat_minor": 2
}

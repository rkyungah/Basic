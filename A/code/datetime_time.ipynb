{
 "cells": [
  {
   "cell_type": "code",
   "execution_count": 1,
   "metadata": {},
   "outputs": [
    {
     "name": "stdout",
     "output_type": "stream",
     "text": [
      "125 days, 0:00:00\n"
     ]
    }
   ],
   "source": [
    "import datetime\n",
    "\n",
    "today = datetime.date.today()\n",
    "xmas_day = datetime.date(2019, 12, 25)\n",
    "remain_time = xmas_day - today\n",
    "print(remain_time)"
   ]
  },
  {
   "cell_type": "code",
   "execution_count": 2,
   "metadata": {},
   "outputs": [
    {
     "name": "stdout",
     "output_type": "stream",
     "text": [
      "2018-12-01 10:20:00\n"
     ]
    }
   ],
   "source": [
    "\n",
    "import datetime\n",
    "\n",
    "#날짜에 시분초까지\n",
    "set_dt = datetime.datetime(2018, 12, 1, 10, 20, 0)\n",
    "print(set_dt)"
   ]
  },
  {
   "cell_type": "code",
   "execution_count": 3,
   "metadata": {},
   "outputs": [
    {
     "name": "stdout",
     "output_type": "stream",
     "text": [
      "2019-08-22 22:03:29.448967\n"
     ]
    }
   ],
   "source": [
    "now = datetime.datetime.now()\n",
    "print(now)"
   ]
  },
  {
   "cell_type": "code",
   "execution_count": 4,
   "metadata": {},
   "outputs": [
    {
     "name": "stdout",
     "output_type": "stream",
     "text": [
      "Date & Time: 2019-08-22, 22:03:29\n",
      "Time: 22/03/29\n"
     ]
    }
   ],
   "source": [
    "print('Date & Time: {:%Y-%m-%d, %H:%M:%S}'.format(now))\n",
    "print('Time: {:%H/%M/%S}'.format(now))"
   ]
  },
  {
   "cell_type": "code",
   "execution_count": 5,
   "metadata": {},
   "outputs": [],
   "source": [
    "#현재 시간을 년 월 일 시 분 초로 출력하기(localtime, strftime)\n",
    "\n",
    "from time import localtime, strftime\n",
    "\n",
    "def writelog(logfile, log) :\n",
    "    time_stamp = strftime('%Y-%m-%d %X\\t', localtime()) #타임정보 변수에 넣어주기\n",
    "    log = time_stamp + log + '\\n'\n",
    "    \n",
    "    with open(logfile, 'a') as f:   # 'a' : 원래 있던 파일에 추가해줌\n",
    "        f.writelines(log)\n",
    "    \n",
    "logfile = 'test.log'\n",
    "#! del test.log\n",
    "\n",
    "writelog(logfile, '첫번째 로깅 문장입니다.')"
   ]
  },
  {
   "cell_type": "code",
   "execution_count": 6,
   "metadata": {},
   "outputs": [
    {
     "name": "stdout",
     "output_type": "stream",
     "text": [
      "2019-08-22 22:08:59\t첫번째 로깅 문장입니다.\n"
     ]
    }
   ],
   "source": [
    "! type test.log"
   ]
  },
  {
   "cell_type": "code",
   "execution_count": 7,
   "metadata": {},
   "outputs": [
    {
     "name": "stdout",
     "output_type": "stream",
     "text": [
      "time.struct_time(tm_year=2019, tm_mon=8, tm_mday=22, tm_hour=22, tm_min=13, tm_sec=28, tm_wday=3, tm_yday=234, tm_isdst=0)\n",
      "오늘은 [2019-01-01] 이후 [234]일째 되는 날입니다.\n"
     ]
    }
   ],
   "source": [
    "#올해 경과된 날짜수 계산(localtime)\n",
    "from time import localtime\n",
    "\n",
    "t = localtime()\n",
    "print(t)\n",
    "\n",
    "start_day = '%d-01-01' % (t.tm_year)\n",
    "elapsed_day = t.tm_yday\n",
    "\n",
    "print('오늘은 [%s] 이후 [%d]일째 되는 날입니다.' % (start_day, elapsed_day))\n"
   ]
  },
  {
   "cell_type": "code",
   "execution_count": 8,
   "metadata": {},
   "outputs": [
    {
     "name": "stdout",
     "output_type": "stream",
     "text": [
      "[2019-8-22] 오늘은 [목요일] 입니다.\n"
     ]
    }
   ],
   "source": [
    "from time import localtime\n",
    "\n",
    "weekdays = [\n",
    "    '월요일','화요일','수요일','목요일','금요일','토요일','일요일'\n",
    "]\n",
    "\n",
    "t = localtime()\n",
    "today = '%d-%d-%d'%(t.tm_year, t.tm_mon, t.tm_mday)\n",
    "week = weekdays[t.tm_wday]\n",
    "\n",
    "print('[%s] 오늘은 [%s] 입니다.' %(today,week))"
   ]
  },
  {
   "cell_type": "code",
   "execution_count": 9,
   "metadata": {},
   "outputs": [
    {
     "name": "stdout",
     "output_type": "stream",
     "text": [
      "1에서 백만까지 더합니다.\n",
      "1에서 백만까지 더한 결과: 499999500000 \n",
      "총 계산 시간: 0:00:00.294828\n",
      "총 계산 시간: 294ms\n"
     ]
    }
   ],
   "source": [
    "# 프로그램 실행 시간 계산 (datetimenow)\n",
    "\n",
    "from datetime import datetime, timedelta\n",
    "\n",
    "start = datetime.now()\n",
    "print('1에서 백만까지 더합니다.')\n",
    "\n",
    "ret = 0\n",
    "for i in range(1000000):\n",
    "    ret += i\n",
    "    \n",
    "print('1에서 백만까지 더한 결과: %d ' %ret)\n",
    "end = datetime.now()\n",
    "\n",
    "\n",
    "elapsed = end - start\n",
    "print('총 계산 시간: ', end =''); print(elapsed)\n",
    "elapsed_ms = int(elapsed.total_seconds()*1000)\n",
    "print('총 계산 시간: {}ms'.format(elapsed_ms))"
   ]
  },
  {
   "cell_type": "code",
   "execution_count": 11,
   "metadata": {},
   "outputs": [
    {
     "name": "stdout",
     "output_type": "stream",
     "text": [
      "오늘은 나의 기념일로부터 1,651일 경과하였습니다.\n"
     ]
    }
   ],
   "source": [
    "\n",
    "import time\n",
    "import datetime\n",
    "\n",
    "t = localtime()\n",
    "t_now = '%d-%d-%d' %(t.tm_year,t.tm_mon,t.tm_mday)     #년, 월, 일\n",
    "elapsed_day = datetime.datetime.strptime(t_now, '%Y-%m-%d').date()\n",
    "\n",
    "def getMenorialDay(year,month,day,specialday, is_msg=True) :\n",
    "    sday = datetime.date(year, month, day)\n",
    "    mday = elapsed_day - sday\n",
    "\n",
    "    if mday.days > 1000 :\n",
    "        a = format(mday.days, \",\")\n",
    "        print('오늘은 {0}로부터 {1}일 경과하였습니다.'.format(specialday,a))\n",
    "            \n",
    "    else :\n",
    "        print('오늘은 {0}로부터 {1}일 경과하였습니다.'.format(specialday,mday.days))   \n",
    "\n",
    "getMenorialDay(2015, 2, 13, '나의 기념일')"
   ]
  },
  {
   "cell_type": "code",
   "execution_count": null,
   "metadata": {},
   "outputs": [],
   "source": []
  }
 ],
 "metadata": {
  "kernelspec": {
   "display_name": "Python 3",
   "language": "python",
   "name": "python3"
  },
  "language_info": {
   "codemirror_mode": {
    "name": "ipython",
    "version": 3
   },
   "file_extension": ".py",
   "mimetype": "text/x-python",
   "name": "python",
   "nbconvert_exporter": "python",
   "pygments_lexer": "ipython3",
   "version": "3.7.3"
  }
 },
 "nbformat": 4,
 "nbformat_minor": 2
}

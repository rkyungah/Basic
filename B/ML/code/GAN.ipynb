{
 "cells": [
  {
   "cell_type": "code",
   "execution_count": 91,
   "metadata": {},
   "outputs": [],
   "source": [
    "import tensorflow as tf\n",
    "import matplotlib.pyplot as plt\n",
    "import numpy as np"
   ]
  },
  {
   "cell_type": "code",
   "execution_count": 92,
   "metadata": {},
   "outputs": [
    {
     "name": "stdout",
     "output_type": "stream",
     "text": [
      "Extracting ./mnist/data/train-images-idx3-ubyte.gz\n",
      "Extracting ./mnist/data/train-labels-idx1-ubyte.gz\n",
      "Extracting ./mnist/data/t10k-images-idx3-ubyte.gz\n",
      "Extracting ./mnist/data/t10k-labels-idx1-ubyte.gz\n"
     ]
    }
   ],
   "source": [
    "from tensorflow.examples.tutorials.mnist import input_data\n",
    "mnist = input_data.read_data_sets('./mnist/data/', one_hot = True)"
   ]
  },
  {
   "cell_type": "code",
   "execution_count": 93,
   "metadata": {},
   "outputs": [],
   "source": [
    "n_input = 28 * 28\n",
    "n_noise = 128\n",
    "\n",
    "# 은닉층 노드 수\n",
    "n_hidden = 256\n",
    "\n",
    "total_epoch = 100\n",
    "batch_size = 100\n",
    "learning_rate = 0.0002 # 학습률"
   ]
  },
  {
   "cell_type": "code",
   "execution_count": 94,
   "metadata": {},
   "outputs": [],
   "source": [
    "X = tf.placeholder(tf.float32, [None, n_input])\n",
    "# 생성망에 들어갈 입력데이터(정규 분포를 따르는 128개의 데이터)\n",
    "Z = tf.placeholder(tf.float32, [None, n_noise])"
   ]
  },
  {
   "cell_type": "markdown",
   "metadata": {},
   "source": [
    "## 생성자 신경망\n",
    "- W (가중치)\n",
    "- b (편향)"
   ]
  },
  {
   "cell_type": "code",
   "execution_count": 95,
   "metadata": {},
   "outputs": [],
   "source": [
    "G_W1 = tf.Variable(tf.random_normal([n_noise, n_hidden], stddev=0.01))\n",
    "G_b1 = tf.Variable(tf.zeros([n_hidden]))\n",
    "G_W2 = tf.Variable(tf.random_normal([n_hidden, n_input], stddev=0.01))\n",
    "G_b2 = tf.Variable(tf.zeros([n_input]))"
   ]
  },
  {
   "cell_type": "markdown",
   "metadata": {},
   "source": [
    "## 판별기 신경망"
   ]
  },
  {
   "cell_type": "code",
   "execution_count": 96,
   "metadata": {},
   "outputs": [],
   "source": [
    "D_W1 = tf.Variable(tf.random_normal([n_input, n_hidden], stddev=0.01))\n",
    "D_b1 = tf.Variable(tf.zeros([n_hidden]))\n",
    "\n",
    "D_W2 = tf.Variable(tf.random_normal([n_hidden, 1], stddev = 0.01))\n",
    "D_b2 = tf.Variable(tf.zeros([1]))\n",
    "# 최종 0부터 1 사이의 값 하나"
   ]
  },
  {
   "cell_type": "markdown",
   "metadata": {},
   "source": [
    "## 생성자(G) 신경망 구성\n",
    "- 무작위 노이즈를 받아 가중치와 편향을 반영한 은닉층을 구성한다.\n",
    "- Activation 함수를 이용해 최종 결과값 0~1 사이 반환\n",
    "\n",
    "#### 노이즈 데이터 발생을 위한 노이즈 생성 함수\n",
    "- def get_noise(데이터 개수, 노이즈 개수)"
   ]
  },
  {
   "cell_type": "code",
   "execution_count": 97,
   "metadata": {},
   "outputs": [],
   "source": [
    "# 노이즈 생성 함수\n",
    "def get_noise(batch_size, n_noise) :\n",
    "    return np.random.normal(size=(batch_size, n_noise))"
   ]
  },
  {
   "cell_type": "code",
   "execution_count": 98,
   "metadata": {},
   "outputs": [],
   "source": [
    "# 생성자 신경망 직접 구성\n",
    "def generator(noise_z) :\n",
    "    hidden = tf.nn.relu(tf.matmul(noise_z, G_W1) + G_b1)\n",
    "    output = tf.nn.sigmoid(tf.matmul(hidden, G_W2) + G_b2)\n",
    "    \n",
    "    return output"
   ]
  },
  {
   "cell_type": "markdown",
   "metadata": {},
   "source": [
    "## 판별자 신경망 구성\n",
    "- 구분자 신경망 구성, 가중치와 편향을 반영한 데이터 출력\n",
    "- Activation 함수를 이용해 최종 결과 반환"
   ]
  },
  {
   "cell_type": "code",
   "execution_count": 99,
   "metadata": {},
   "outputs": [],
   "source": [
    "def discriminator(inputs) :\n",
    "    hidden = tf.nn.relu(tf.matmul(inputs, D_W1) + D_b1)\n",
    "    output = tf.nn.sigmoid(tf.matmul(hidden, D_W2) + D_b2)\n",
    "    \n",
    "    return output"
   ]
  },
  {
   "cell_type": "code",
   "execution_count": 100,
   "metadata": {},
   "outputs": [],
   "source": [
    "# 노이즈를 이용, 랜덤 이미지 생성\n",
    "# Z는 실행시 noise가 입력됨\n",
    "G = generator(Z)\n",
    "\n",
    "# 노이즈를 이용하여 생성한 이미지가 진짜 이미지인지 판별\n",
    "D_fake = discriminator(G)\n",
    "\n",
    "# 진짜 이미지를 이용해 판별한 값\n",
    "D_real = discriminator(X)"
   ]
  },
  {
   "cell_type": "markdown",
   "metadata": {},
   "source": [
    "## 비용함수, 최적화 함수"
   ]
  },
  {
   "cell_type": "code",
   "execution_count": 101,
   "metadata": {},
   "outputs": [],
   "source": [
    "loss_D = tf.reduce_mean(tf.log(D_real) + tf.log(1 - D_fake))\n",
    "\n",
    "loss_G = tf.reduce_mean(tf.log(D_fake))"
   ]
  },
  {
   "cell_type": "code",
   "execution_count": 102,
   "metadata": {},
   "outputs": [],
   "source": [
    "# loss_D 를 구할 때는 판별기 신경망에 사용되는 변수만 사용하고,\n",
    "# loss_G 를 구할 때는 생성기 신경망에 사용되는 변수만 사용하여 최적화\n",
    "D_var_list = [D_W1, D_b1, D_W2, D_b2]\n",
    "G_var_list = [G_W1, G_b1, G_W2, G_b2]"
   ]
  },
  {
   "cell_type": "code",
   "execution_count": 103,
   "metadata": {},
   "outputs": [],
   "source": [
    "### 오차의 최소화가 아닌\n",
    "### loss_D와 loss_G의 최대화가 목표"
   ]
  },
  {
   "cell_type": "code",
   "execution_count": 104,
   "metadata": {},
   "outputs": [],
   "source": [
    "# 최적화 대상인 loss_D와 loss_G에 음수 부호\n",
    "train_D = tf.train.AdamOptimizer(learning_rate).minimize(-loss_D,\n",
    "                                                        var_list = D_var_list)\n",
    "train_G = tf.train.AdamOptimizer(learning_rate).minimize(-loss_G,\n",
    "                                                        var_list = G_var_list)"
   ]
  },
  {
   "cell_type": "code",
   "execution_count": 107,
   "metadata": {},
   "outputs": [],
   "source": [
    "!mkdir samples"
   ]
  },
  {
   "cell_type": "markdown",
   "metadata": {},
   "source": [
    "## 모델 학습"
   ]
  },
  {
   "cell_type": "code",
   "execution_count": 105,
   "metadata": {},
   "outputs": [],
   "source": [
    "sess = tf.Session()\n",
    "sess.run(tf.global_variables_initializer())\n",
    "\n",
    "total_batch = int(mnist.train.num_examples/batch_size)\n",
    "loss_val_D, loss_val_G = 0, 0"
   ]
  },
  {
   "cell_type": "code",
   "execution_count": 108,
   "metadata": {},
   "outputs": [
    {
     "name": "stdout",
     "output_type": "stream",
     "text": [
      "Epoch : 0, 판별망 성능 : -0.9344, 생성망 성능 : -1.8741\n",
      "Epoch : 1, 판별망 성능 : -0.9661, 생성망 성능 : -1.6740\n",
      "Epoch : 2, 판별망 성능 : -0.7129, 생성망 성능 : -2.0492\n",
      "Epoch : 3, 판별망 성능 : -0.8009, 생성망 성능 : -1.7945\n",
      "Epoch : 4, 판별망 성능 : -0.8022, 생성망 성능 : -2.0621\n",
      "Epoch : 5, 판별망 성능 : -0.8367, 생성망 성능 : -1.8170\n",
      "Epoch : 6, 판별망 성능 : -0.7007, 생성망 성능 : -1.9916\n",
      "Epoch : 7, 판별망 성능 : -0.7566, 생성망 성능 : -2.1235\n",
      "Epoch : 8, 판별망 성능 : -0.6544, 생성망 성능 : -2.0534\n",
      "Epoch : 9, 판별망 성능 : -0.7952, 생성망 성능 : -2.0358\n",
      "Epoch : 10, 판별망 성능 : -0.7468, 생성망 성능 : -2.2535\n",
      "Epoch : 11, 판별망 성능 : -0.6521, 생성망 성능 : -1.9900\n",
      "Epoch : 12, 판별망 성능 : -0.6729, 생성망 성능 : -2.0487\n",
      "Epoch : 13, 판별망 성능 : -0.7142, 생성망 성능 : -2.0637\n",
      "Epoch : 14, 판별망 성능 : -0.7006, 생성망 성능 : -1.8946\n",
      "Epoch : 15, 판별망 성능 : -0.5934, 생성망 성능 : -2.1037\n",
      "Epoch : 16, 판별망 성능 : -0.7893, 생성망 성능 : -1.9735\n",
      "Epoch : 17, 판별망 성능 : -0.5803, 생성망 성능 : -1.9748\n",
      "Epoch : 18, 판별망 성능 : -0.6999, 생성망 성능 : -1.8738\n",
      "Epoch : 19, 판별망 성능 : -0.6275, 생성망 성능 : -1.8869\n",
      "Epoch : 20, 판별망 성능 : -0.6357, 생성망 성능 : -2.1555\n",
      "Epoch : 21, 판별망 성능 : -0.6112, 생성망 성능 : -2.3424\n",
      "Epoch : 22, 판별망 성능 : -0.8031, 생성망 성능 : -2.0860\n",
      "Epoch : 23, 판별망 성능 : -0.7371, 생성망 성능 : -2.2245\n",
      "Epoch : 24, 판별망 성능 : -0.5755, 생성망 성능 : -2.2749\n",
      "Epoch : 25, 판별망 성능 : -0.6801, 생성망 성능 : -1.9465\n",
      "Epoch : 26, 판별망 성능 : -0.7241, 생성망 성능 : -2.0073\n",
      "Epoch : 27, 판별망 성능 : -0.5906, 생성망 성능 : -2.1768\n",
      "Epoch : 28, 판별망 성능 : -0.5663, 생성망 성능 : -2.2271\n",
      "Epoch : 29, 판별망 성능 : -0.6629, 생성망 성능 : -2.1108\n",
      "Epoch : 30, 판별망 성능 : -0.5159, 생성망 성능 : -2.1804\n",
      "Epoch : 31, 판별망 성능 : -0.6906, 생성망 성능 : -2.0932\n",
      "Epoch : 32, 판별망 성능 : -0.6653, 생성망 성능 : -2.1450\n",
      "Epoch : 33, 판별망 성능 : -0.6032, 생성망 성능 : -2.3122\n",
      "Epoch : 34, 판별망 성능 : -0.5379, 생성망 성능 : -2.3369\n",
      "Epoch : 35, 판별망 성능 : -0.7059, 생성망 성능 : -1.9187\n",
      "Epoch : 36, 판별망 성능 : -0.6423, 생성망 성능 : -2.2905\n",
      "Epoch : 37, 판별망 성능 : -0.5689, 생성망 성능 : -2.1488\n",
      "Epoch : 38, 판별망 성능 : -0.6091, 생성망 성능 : -2.4670\n",
      "Epoch : 39, 판별망 성능 : -0.5675, 생성망 성능 : -2.1843\n",
      "Epoch : 40, 판별망 성능 : -0.5950, 생성망 성능 : -2.5706\n",
      "Epoch : 41, 판별망 성능 : -0.5028, 생성망 성능 : -2.6096\n",
      "Epoch : 42, 판별망 성능 : -0.5868, 생성망 성능 : -2.5818\n",
      "Epoch : 43, 판별망 성능 : -0.6935, 생성망 성능 : -2.4304\n",
      "Epoch : 44, 판별망 성능 : -0.7462, 생성망 성능 : -2.2594\n",
      "Epoch : 45, 판별망 성능 : -0.5805, 생성망 성능 : -2.1113\n",
      "Epoch : 46, 판별망 성능 : -0.5382, 생성망 성능 : -2.3210\n",
      "Epoch : 47, 판별망 성능 : -0.6271, 생성망 성능 : -2.4438\n",
      "Epoch : 48, 판별망 성능 : -0.5321, 생성망 성능 : -2.0484\n",
      "Epoch : 49, 판별망 성능 : -0.5758, 생성망 성능 : -2.3598\n",
      "Epoch : 50, 판별망 성능 : -0.5114, 생성망 성능 : -2.4669\n",
      "Epoch : 51, 판별망 성능 : -0.5210, 생성망 성능 : -2.8450\n",
      "Epoch : 52, 판별망 성능 : -0.5127, 생성망 성능 : -2.3770\n",
      "Epoch : 53, 판별망 성능 : -0.4882, 생성망 성능 : -2.5514\n",
      "Epoch : 54, 판별망 성능 : -0.5713, 생성망 성능 : -2.5759\n",
      "Epoch : 55, 판별망 성능 : -0.5555, 생성망 성능 : -2.3708\n",
      "Epoch : 56, 판별망 성능 : -0.5687, 생성망 성능 : -2.2657\n",
      "Epoch : 57, 판별망 성능 : -0.5924, 생성망 성능 : -2.6935\n",
      "Epoch : 58, 판별망 성능 : -0.5182, 생성망 성능 : -2.3403\n",
      "Epoch : 59, 판별망 성능 : -0.6426, 생성망 성능 : -2.3085\n",
      "Epoch : 60, 판별망 성능 : -0.5982, 생성망 성능 : -2.1728\n",
      "Epoch : 61, 판별망 성능 : -0.5523, 생성망 성능 : -2.2796\n",
      "Epoch : 62, 판별망 성능 : -0.5337, 생성망 성능 : -2.6309\n",
      "Epoch : 63, 판별망 성능 : -0.6026, 생성망 성능 : -2.2261\n",
      "Epoch : 64, 판별망 성능 : -0.5372, 생성망 성능 : -2.5566\n",
      "Epoch : 65, 판별망 성능 : -0.4429, 생성망 성능 : -2.7719\n",
      "Epoch : 66, 판별망 성능 : -0.5586, 생성망 성능 : -2.8126\n",
      "Epoch : 67, 판별망 성능 : -0.5682, 생성망 성능 : -2.7645\n",
      "Epoch : 68, 판별망 성능 : -0.5536, 생성망 성능 : -2.4949\n",
      "Epoch : 69, 판별망 성능 : -0.6439, 생성망 성능 : -2.3737\n",
      "Epoch : 70, 판별망 성능 : -0.5900, 생성망 성능 : -2.6586\n",
      "Epoch : 71, 판별망 성능 : -0.5249, 생성망 성능 : -2.5863\n",
      "Epoch : 72, 판별망 성능 : -0.6627, 생성망 성능 : -2.2212\n",
      "Epoch : 73, 판별망 성능 : -0.4564, 생성망 성능 : -2.3028\n",
      "Epoch : 74, 판별망 성능 : -0.5043, 생성망 성능 : -2.4405\n",
      "Epoch : 75, 판별망 성능 : -0.5253, 생성망 성능 : -2.6308\n",
      "Epoch : 76, 판별망 성능 : -0.4557, 생성망 성능 : -2.6146\n",
      "Epoch : 77, 판별망 성능 : -0.5753, 생성망 성능 : -2.7524\n",
      "Epoch : 78, 판별망 성능 : -0.5547, 생성망 성능 : -2.6384\n",
      "Epoch : 79, 판별망 성능 : -0.5062, 생성망 성능 : -2.8292\n",
      "Epoch : 80, 판별망 성능 : -0.5194, 생성망 성능 : -2.6385\n",
      "Epoch : 81, 판별망 성능 : -0.4930, 생성망 성능 : -2.4364\n",
      "Epoch : 82, 판별망 성능 : -0.5502, 생성망 성능 : -2.5326\n",
      "Epoch : 83, 판별망 성능 : -0.5083, 생성망 성능 : -2.4638\n",
      "Epoch : 84, 판별망 성능 : -0.5388, 생성망 성능 : -2.5645\n",
      "Epoch : 85, 판별망 성능 : -0.5493, 생성망 성능 : -2.2856\n",
      "Epoch : 86, 판별망 성능 : -0.3868, 생성망 성능 : -2.7575\n",
      "Epoch : 87, 판별망 성능 : -0.4327, 생성망 성능 : -2.7575\n",
      "Epoch : 88, 판별망 성능 : -0.4154, 생성망 성능 : -2.5459\n",
      "Epoch : 89, 판별망 성능 : -0.5818, 생성망 성능 : -2.5830\n",
      "Epoch : 90, 판별망 성능 : -0.5180, 생성망 성능 : -2.5769\n",
      "Epoch : 91, 판별망 성능 : -0.5559, 생성망 성능 : -2.5877\n",
      "Epoch : 92, 판별망 성능 : -0.5737, 생성망 성능 : -2.1999\n",
      "Epoch : 93, 판별망 성능 : -0.4395, 생성망 성능 : -2.6946\n",
      "Epoch : 94, 판별망 성능 : -0.5525, 생성망 성능 : -2.8136\n",
      "Epoch : 95, 판별망 성능 : -0.4916, 생성망 성능 : -2.1840\n",
      "Epoch : 96, 판별망 성능 : -0.3957, 생성망 성능 : -2.9363\n",
      "Epoch : 97, 판별망 성능 : -0.5767, 생성망 성능 : -2.7409\n",
      "Epoch : 98, 판별망 성능 : -0.5469, 생성망 성능 : -2.7297\n",
      "Epoch : 99, 판별망 성능 : -0.5955, 생성망 성능 : -2.5565\n",
      "FIN\n"
     ]
    }
   ],
   "source": [
    "for epoch in range(total_epoch) :\n",
    "    for i in range(total_batch) :\n",
    "        batch_xs, batch_ys = mnist.train.next_batch(batch_size) # 판별망의 데이터\n",
    "        noise = get_noise(batch_size, n_noise) # 생성망의 입력 데이터\n",
    "        \n",
    "        # 판별기와 생성기 신경망 각각 학습\n",
    "        _, loss_val_D = sess.run([train_D, loss_D],\n",
    "                                 feed_dict = {X: batch_xs, Z : noise})\n",
    "        _, loss_val_G = sess.run([train_G, loss_G],\n",
    "                                 feed_dict = {Z: noise})\n",
    "        \n",
    "    print(\"Epoch : {}, 판별망 성능 : {:.4f}, 생성망 성능 : {:.4f}\".format\n",
    "         (epoch, loss_val_D, loss_val_G))\n",
    "    \n",
    "    if epoch == 0 or (epoch+1) % 10 == 0 :\n",
    "        sample_size = 10\n",
    "        noise = get_noise(sample_size, n_noise)\n",
    "        samples = sess.run(G, feed_dict = {Z: noise})\n",
    "        \n",
    "        fig, ax = plt.subplots(1, sample_size, figsize = (sample_size,1))\n",
    "        \n",
    "        for i in range(sample_size) :\n",
    "            ax[i].set_axis_off()\n",
    "            ax[i].imshow(np.reshape(samples[i], (28,28)))\n",
    "            \n",
    "        plt.savefig('samples/{}.png'.format(str(epoch).zfill(3)), bbox_inches='tight')\n",
    "        plt.close(fig)\n",
    "        \n",
    "print('FIN')"
   ]
  },
  {
   "cell_type": "code",
   "execution_count": null,
   "metadata": {},
   "outputs": [],
   "source": []
  }
 ],
 "metadata": {
  "kernelspec": {
   "display_name": "Python 3",
   "language": "python",
   "name": "python3"
  },
  "language_info": {
   "codemirror_mode": {
    "name": "ipython",
    "version": 3
   },
   "file_extension": ".py",
   "mimetype": "text/x-python",
   "name": "python",
   "nbconvert_exporter": "python",
   "pygments_lexer": "ipython3",
   "version": "3.7.3"
  }
 },
 "nbformat": 4,
 "nbformat_minor": 2
}
